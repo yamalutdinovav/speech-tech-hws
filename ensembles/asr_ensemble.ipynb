{
 "cells": [
  {
   "cell_type": "code",
   "execution_count": 80,
   "id": "40cb18d6",
   "metadata": {
    "ExecuteTime": {
     "end_time": "2022-12-16T20:47:42.420801Z",
     "start_time": "2022-12-16T20:47:42.409522Z"
    }
   },
   "outputs": [],
   "source": [
    "from typing import Iterable, Tuple, List\n",
    "import warnings\n",
    "warnings.filterwarnings(\"ignore\")\n",
    "\n",
    "import torch\n",
    "import torch.nn as nn\n",
    "import torch.nn.functional as F\n",
    "import sentencepiece\n",
    "import omegaconf\n",
    "import pytorch_lightning as pl\n",
    "import pandas as pd\n",
    "from tqdm.auto import tqdm\n",
    "\n",
    "from src.models import ConformerLAS, ConformerCTC\n",
    "from src.metrics import WER"
   ]
  },
  {
   "cell_type": "code",
   "execution_count": 9,
   "id": "28bb692c",
   "metadata": {
    "ExecuteTime": {
     "end_time": "2022-12-16T18:02:08.959420Z",
     "start_time": "2022-12-16T18:02:08.911215Z"
    }
   },
   "outputs": [],
   "source": [
    "def init_model(model: pl.LightningModule, ckpt_path: str) -> pl.LightningModule:\n",
    "    ckpt = torch.load(ckpt_path, map_location=\"cpu\")\n",
    "    model.load_state_dict(ckpt)\n",
    "    model.eval()\n",
    "    model.freeze()\n",
    "    return model\n",
    "\n",
    "\n",
    "def compute_wer(refs: Iterable[str], hyps: Iterable[str]) -> float:\n",
    "    wer = WER()\n",
    "    wer.update(refs, hyps)\n",
    "    return wer.compute()[0].item()\n",
    "\n",
    "\n",
    "class GreedyDecoderLAS:\n",
    "    def __init__(self, model: ConformerLAS, max_steps=20):\n",
    "        self.model = model\n",
    "        self.max_steps = max_steps\n",
    "\n",
    "    def __call__(self, encoded: torch.Tensor) -> str:\n",
    "        \n",
    "        tokens = [self.model.decoder.tokenizer.bos_id()]\n",
    "\n",
    "        for _ in range(self.max_steps):\n",
    "            \n",
    "            tokens_batch = torch.tensor(tokens).unsqueeze(0)\n",
    "            att_mask = self.model.make_attention_mask(torch.tensor([tokens_batch.size(-1)]))\n",
    "            \n",
    "            distribution = self.model.decoder(\n",
    "                encoded=encoded, encoded_pad_mask=None,\n",
    "                target=tokens_batch, target_mask=att_mask, target_pad_mask=None\n",
    "            )\n",
    "        \n",
    "            best_next_token = distribution[0, -1].argmax()\n",
    "            \n",
    "            if best_next_token == self.model.decoder.tokenizer.eos_id():\n",
    "                break\n",
    "\n",
    "            tokens.append(best_next_token.item())\n",
    "        \n",
    "        return self.model.decoder.tokenizer.decode(tokens)"
   ]
  },
  {
   "cell_type": "markdown",
   "id": "8d7489a3",
   "metadata": {},
   "source": [
    "# Single Model"
   ]
  },
  {
   "cell_type": "code",
   "execution_count": 10,
   "id": "6bd256ec",
   "metadata": {
    "ExecuteTime": {
     "end_time": "2022-12-16T18:02:10.343798Z",
     "start_time": "2022-12-16T18:02:10.336824Z"
    }
   },
   "outputs": [],
   "source": [
    "dataset = 'test_opus/farfield/manifest.jsonl'"
   ]
  },
  {
   "cell_type": "markdown",
   "id": "f87d7a33",
   "metadata": {},
   "source": [
    "## LAS"
   ]
  },
  {
   "cell_type": "code",
   "execution_count": 11,
   "id": "91eff477",
   "metadata": {
    "ExecuteTime": {
     "end_time": "2022-12-16T18:02:14.333271Z",
     "start_time": "2022-12-16T18:02:13.299434Z"
    }
   },
   "outputs": [],
   "source": [
    "conf = omegaconf.OmegaConf.load(\"./conf/conformer_las.yaml\")\n",
    "conf.val_dataloader.dataset.manifest_name = dataset\n",
    "conf.model.decoder.tokenizer = \"./data/tokenizer/bpe_1024_bos_eos.model\"\n",
    "\n",
    "conformer_las = init_model(\n",
    "    model=ConformerLAS(conf=conf),\n",
    "    ckpt_path=\"./data/conformer_las_2epochs.ckpt\"\n",
    ")"
   ]
  },
  {
   "cell_type": "code",
   "execution_count": 12,
   "id": "1343a50c",
   "metadata": {
    "ExecuteTime": {
     "end_time": "2022-12-16T18:10:24.922534Z",
     "start_time": "2022-12-16T18:02:14.578249Z"
    }
   },
   "outputs": [
    {
     "name": "stderr",
     "output_type": "stream",
     "text": [
      "100%|█████████████████████████████████████████████████████████████████████████████████████████████████████████████████████████████████████████████████████████████████████| 479/479 [08:09<00:00,  1.02s/it]\n"
     ]
    }
   ],
   "source": [
    "las_decoder = GreedyDecoderLAS(conformer_las)\n",
    "\n",
    "refs, hyps_las = [], []\n",
    "\n",
    "for batch in tqdm(conformer_las.val_dataloader()):\n",
    "\n",
    "    features, features_len, targets, target_len = batch\n",
    "\n",
    "    encoded, encoded_len = conformer_las(features, features_len)\n",
    "    \n",
    "    for i in range(features.shape[0]):\n",
    "\n",
    "        encoder_states = encoded[\n",
    "            [i],\n",
    "            :encoded_len[i],\n",
    "            :\n",
    "        ]\n",
    "\n",
    "        ref_tokens = targets[i, :target_len[i]].tolist()\n",
    "\n",
    "        refs.append(\n",
    "            conformer_las.decoder.tokenizer.decode(ref_tokens)\n",
    "        )\n",
    "        hyps_las.append(\n",
    "            las_decoder(encoder_states)\n",
    "        )"
   ]
  },
  {
   "cell_type": "code",
   "execution_count": 13,
   "id": "d05af7e1",
   "metadata": {
    "ExecuteTime": {
     "end_time": "2022-12-16T18:12:54.618865Z",
     "start_time": "2022-12-16T18:12:54.547314Z"
    }
   },
   "outputs": [
    {
     "data": {
      "text/plain": [
       "0.42290276288986206"
      ]
     },
     "execution_count": 13,
     "metadata": {},
     "output_type": "execute_result"
    }
   ],
   "source": [
    "compute_wer(refs, hyps_las)"
   ]
  },
  {
   "cell_type": "markdown",
   "id": "262680b9",
   "metadata": {},
   "source": [
    "## CTC"
   ]
  },
  {
   "cell_type": "code",
   "execution_count": null,
   "id": "ecca9bdc",
   "metadata": {},
   "outputs": [],
   "source": [
    "# TODO: load models, estimate WER"
   ]
  },
  {
   "cell_type": "code",
   "execution_count": 55,
   "id": "c3e8ede3",
   "metadata": {
    "ExecuteTime": {
     "end_time": "2022-12-16T19:21:17.999863Z",
     "start_time": "2022-12-16T19:21:17.992115Z"
    }
   },
   "outputs": [],
   "source": [
    "def decode_ctc_hyps(model: ConformerCTC) -> Tuple[List[str], List[str]]:\n",
    "    refs = []\n",
    "    hyps_ctc = []\n",
    "    for batch in tqdm(model.val_dataloader()):\n",
    "        features, features_len, targets, target_len = batch\n",
    "        _, encoded_len, preds = model(features, features_len)\n",
    "        refs.extend(model.decoder.decode(targets, target_len))\n",
    "        hyps_ctc.extend(model.decoder.decode(preds, encoded_len, unique_consecutive=True))\n",
    "    return refs, hyps_ctc"
   ]
  },
  {
   "cell_type": "code",
   "execution_count": 56,
   "id": "76da07ee",
   "metadata": {
    "ExecuteTime": {
     "end_time": "2022-12-16T19:26:03.775692Z",
     "start_time": "2022-12-16T19:21:20.329532Z"
    }
   },
   "outputs": [
    {
     "name": "stderr",
     "output_type": "stream",
     "text": [
      "100%|█████████████████████████████████████████████████████████████████████████████████████████████████████████████████████████████████████████████████████████████████████| 479/479 [04:42<00:00,  1.70it/s]\n"
     ]
    }
   ],
   "source": [
    "conf = omegaconf.OmegaConf.load(\"./conf/conformer_ctc.yaml\")\n",
    "conf.val_dataloader.dataset.manifest_name = dataset\n",
    "\n",
    "conformer_ctc = init_model(\n",
    "    model=ConformerCTC(conf=conf),\n",
    "    ckpt_path=\"./data/conformer_7epochs_state_dict.ckpt\"\n",
    ")\n",
    "\n",
    "refs, hyps_ctc = decode_ctc_hyps(conformer_ctc)"
   ]
  },
  {
   "cell_type": "code",
   "execution_count": 57,
   "id": "64281db5",
   "metadata": {
    "ExecuteTime": {
     "end_time": "2022-12-16T19:30:53.816986Z",
     "start_time": "2022-12-16T19:26:03.871725Z"
    }
   },
   "outputs": [
    {
     "name": "stderr",
     "output_type": "stream",
     "text": [
      "100%|█████████████████████████████████████████████████████████████████████████████████████████████████████████████████████████████████████████████████████████████████████| 479/479 [04:48<00:00,  1.66it/s]\n"
     ]
    }
   ],
   "source": [
    "conf = omegaconf.OmegaConf.load(\"./conf/conformer_ctc_wide.yaml\")\n",
    "conf.val_dataloader.dataset.manifest_name = dataset\n",
    "\n",
    "conformer_ctc_wide = init_model(\n",
    "    model=ConformerCTC(conf=conf),\n",
    "    ckpt_path=\"./data/conformer_wide_7epochs_state_dict.ckpt\"\n",
    ")\n",
    "\n",
    "refs, hyps_ctc_wide = decode_ctc_hyps(conformer_ctc_wide)"
   ]
  },
  {
   "cell_type": "code",
   "execution_count": 58,
   "id": "4bdda104",
   "metadata": {
    "ExecuteTime": {
     "end_time": "2022-12-16T19:30:53.914232Z",
     "start_time": "2022-12-16T19:30:53.889774Z"
    }
   },
   "outputs": [
    {
     "data": {
      "text/plain": [
       "0.4247196316719055"
      ]
     },
     "execution_count": 58,
     "metadata": {},
     "output_type": "execute_result"
    }
   ],
   "source": [
    "compute_wer(refs, hyps_ctc)"
   ]
  },
  {
   "cell_type": "code",
   "execution_count": 59,
   "id": "31ba5e14",
   "metadata": {
    "ExecuteTime": {
     "end_time": "2022-12-16T19:30:53.984536Z",
     "start_time": "2022-12-16T19:30:53.971012Z"
    }
   },
   "outputs": [
    {
     "data": {
      "text/plain": [
       "0.3700787425041199"
      ]
     },
     "execution_count": 59,
     "metadata": {},
     "output_type": "execute_result"
    }
   ],
   "source": [
    "compute_wer(refs, hyps_ctc_wide)"
   ]
  },
  {
   "cell_type": "markdown",
   "id": "f60776f4",
   "metadata": {},
   "source": [
    "# ROVER: Recognizer Output Voting Error Reduction — 5 points\n",
    "\n",
    "* [A post-processing system to yield reduced word error rates: Recognizer Output Voting Error Reduction (ROVER)](https://ieeexplore.ieee.org/document/659110)\n",
    "* [Improved ROVER using Language Model Information](https://www-tlp.limsi.fr/public/asr00_holger.pdf)\n",
    "\n",
    "Alignment + Voting\n",
    "\n",
    "![](./images/rover_table.png)"
   ]
  },
  {
   "cell_type": "code",
   "execution_count": 65,
   "id": "167e04f4",
   "metadata": {
    "ExecuteTime": {
     "end_time": "2022-12-16T19:42:43.652290Z",
     "start_time": "2022-12-16T19:42:43.648105Z"
    }
   },
   "outputs": [],
   "source": [
    "from crowdkit.aggregation.texts import ROVER"
   ]
  },
  {
   "cell_type": "code",
   "execution_count": 69,
   "id": "d5480795",
   "metadata": {
    "ExecuteTime": {
     "end_time": "2022-12-16T19:44:27.128549Z",
     "start_time": "2022-12-16T19:44:27.115465Z"
    }
   },
   "outputs": [],
   "source": [
    "workers = []\n",
    "tasks = []\n",
    "texts = []\n",
    "for i, (hyp_las, hyp_ctc, hyp_ctc_wide) in enumerate(zip(hyps_las, hyps_ctc, hyps_ctc_wide)):\n",
    "    workers += ['las', 'ctc', 'ctc_wide']\n",
    "    tasks += [i, i, i]\n",
    "    texts += [hyp_las, hyp_ctc, hyp_ctc_wide]\n",
    "    \n",
    "aggregated = pd.DataFrame({\n",
    "    'worker': workers,\n",
    "    'task': tasks,\n",
    "    'text': texts\n",
    "})"
   ]
  },
  {
   "cell_type": "code",
   "execution_count": 70,
   "id": "72d74139",
   "metadata": {
    "ExecuteTime": {
     "end_time": "2022-12-16T19:44:27.603505Z",
     "start_time": "2022-12-16T19:44:27.598923Z"
    }
   },
   "outputs": [],
   "source": [
    "tokenizer = lambda s: s.split(' ')\n",
    "detokenizer = lambda tokens: ' '.join(tokens)\n",
    "rover = ROVER(tokenizer, detokenizer)"
   ]
  },
  {
   "cell_type": "code",
   "execution_count": 72,
   "id": "59efe52d",
   "metadata": {
    "ExecuteTime": {
     "end_time": "2022-12-16T19:44:50.806046Z",
     "start_time": "2022-12-16T19:44:49.822352Z"
    }
   },
   "outputs": [],
   "source": [
    "hyps_rover = rover.fit_predict(aggregated).values"
   ]
  },
  {
   "cell_type": "code",
   "execution_count": 73,
   "id": "12d69158",
   "metadata": {
    "ExecuteTime": {
     "end_time": "2022-12-16T19:45:06.058807Z",
     "start_time": "2022-12-16T19:45:06.035362Z"
    }
   },
   "outputs": [
    {
     "data": {
      "text/plain": [
       "0.36017656326293945"
      ]
     },
     "execution_count": 73,
     "metadata": {},
     "output_type": "execute_result"
    }
   ],
   "source": [
    "compute_wer(refs, hyps_rover)"
   ]
  },
  {
   "cell_type": "markdown",
   "id": "fd329aa4",
   "metadata": {},
   "source": [
    "# MBR: Minimum Bayes Risk — 5 points\n",
    "\n",
    "\n",
    "* [Minimum Bayes Risk Decoding and System\n",
    "Combination Based on a Recursion for Edit Distance](https://danielpovey.com/files/csl11_consensus.pdf)\n",
    "* [mbr-decoding blog-post](https://suzyahyah.github.io/bayesian%20inference/machine%20translation/2022/02/15/mbr-decoding.html)\n",
    "* [Combination of end-to-end and hybrid models for speech recognition](http://www.interspeech2020.org/uploadfile/pdf/Tue-1-8-4.pdf)\n",
    "\n",
    "![](./images/mbr_scheme.png)"
   ]
  },
  {
   "cell_type": "code",
   "execution_count": 74,
   "id": "06c6e63d",
   "metadata": {
    "ExecuteTime": {
     "end_time": "2022-12-16T20:44:11.191024Z",
     "start_time": "2022-12-16T20:44:11.111065Z"
    }
   },
   "outputs": [],
   "source": [
    "class GreedyDecoderLASWithProbas(GreedyDecoderLAS):\n",
    "    def __init__(self, *args, **kwargs):\n",
    "        super().__init__(*args, **kwargs)\n",
    "    \n",
    "    def get_hyp_probability(self, encoded: torch.Tensor, hyp):\n",
    "        tokens = [self.model.decoder.tokenizer.bos_id()]\n",
    "        score = 1\n",
    "        softmax = nn.Softmax()\n",
    "        for i in range(1, len(hyp)):\n",
    "            tokens_batch = torch.tensor(tokens).unsqueeze(0)\n",
    "            att_mask = self.model.make_attention_mask(torch.tensor([tokens_batch.size(-1)]))\n",
    "            \n",
    "            distribution = self.model.decoder(\n",
    "                encoded=encoded, encoded_pad_mask=None,\n",
    "                target=tokens_batch, target_mask=att_mask, target_pad_mask=None\n",
    "            )\n",
    "            \n",
    "            score *= softmax(distribution[0, -1])[hyp[i]]\n",
    "            tokens.append(hyp[i])\n",
    "\n",
    "        return score"
   ]
  },
  {
   "cell_type": "code",
   "execution_count": 75,
   "id": "6e1fb335",
   "metadata": {
    "ExecuteTime": {
     "end_time": "2022-12-16T20:44:11.675398Z",
     "start_time": "2022-12-16T20:44:11.666966Z"
    }
   },
   "outputs": [],
   "source": [
    "las_decoder = GreedyDecoderLASWithProbas(conformer_las)\n",
    "def get_hyp_prob_las(hyp, encoder_states, las_decoder=las_decoder, conformer_las=conformer_las):\n",
    "    hyp_tokens = [conformer_las.decoder.tokenizer.bos_id()]\n",
    "    hyp_tokens.extend(conformer_las.decoder.tokenizer.tokenize(hyp))\n",
    "    hyp_tokens.append(conformer_las.decoder.tokenizer.eos_id())\n",
    "    return las_decoder.get_hyp_probability(encoder_states, hyp_tokens)"
   ]
  },
  {
   "cell_type": "code",
   "execution_count": 83,
   "id": "3897daf1",
   "metadata": {
    "ExecuteTime": {
     "end_time": "2022-12-16T20:48:35.233178Z",
     "start_time": "2022-12-16T20:48:35.222828Z"
    }
   },
   "outputs": [],
   "source": [
    "labels = list(' абвгдежзийклмнопрстуфхцчшщъыьэюя')\n",
    "token_to_idx = {token: idx for idx, token in enumerate(labels)}\n",
    "\n",
    "def get_hyp_prob_ctc(hyp, model, logprobs, encoded_len):\n",
    "    if '⁇' in hyp:\n",
    "        return None\n",
    "    hyp_tokens = torch.Tensor([int(token_to_idx[token]) for token in hyp]).long()\n",
    "    target_len = len(hyp)\n",
    "    loss = model.ctc_loss(\n",
    "        logprobs, hyp_tokens, torch.Tensor(encoded_len), torch.tensor(target_len)\n",
    "    )\n",
    "    prob = torch.exp(-loss)\n",
    "    return prob"
   ]
  },
  {
   "cell_type": "code",
   "execution_count": 85,
   "id": "ad2c3499",
   "metadata": {
    "ExecuteTime": {
     "end_time": "2022-12-16T20:48:39.909060Z",
     "start_time": "2022-12-16T20:48:39.898081Z"
    }
   },
   "outputs": [],
   "source": [
    "import editdistance\n",
    "def get_distance_matrix(hyps: List[str]):\n",
    "    distance_matrix = np.zeros((len(hyps), len(hyps)))\n",
    "    for i in range(len(hyps)):\n",
    "        for j in range(i + 1, len(hyps)):\n",
    "            distance = editdistance.eval(hyps[i], hyps[j])\n",
    "            distance_matrix[i, j] = distance\n",
    "            distance_matrix[j, i] = distance\n",
    "    return distance_matrix\n",
    "\n",
    "def get_mbr_hyp(hyps, scores, weights=None):\n",
    "    if weights is None:\n",
    "        weights = np.ones(len(hyps))\n",
    "    hyp_scores = []\n",
    "    distance_matrix = get_distance_matrix(hyps)\n",
    "    for i in range(len(hyps)):\n",
    "        tmp_scores = []\n",
    "        for j in range(len(hyps)):\n",
    "            probs_sum = np.sum(scores[j])\n",
    "            tmp_score = np.dot(distance_matrix[i], scores[j]) / probs_sum\n",
    "            tmp_scores.append(tmp_score)\n",
    "        hyp_scores.append(np.dot(weights, tmp_scores))\n",
    "    return hyps[np.argmin(hyp_scores)]"
   ]
  },
  {
   "cell_type": "code",
   "execution_count": 86,
   "id": "c833e97b",
   "metadata": {
    "ExecuteTime": {
     "end_time": "2022-12-16T21:05:58.675020Z",
     "start_time": "2022-12-16T20:48:40.243229Z"
    }
   },
   "outputs": [
    {
     "name": "stderr",
     "output_type": "stream",
     "text": [
      "100%|█████████████████████████████████████████████████████████████████████████████████████████████████████████████████████████████████████████████████████████████████████| 479/479 [17:14<00:00,  2.16s/it]\n"
     ]
    }
   ],
   "source": [
    "batch_size = 4\n",
    "scores_las = []\n",
    "scores_ctc = []\n",
    "scores_ctc_wide = []\n",
    "k = -1\n",
    "\n",
    "for i, batch in tqdm(enumerate(conformer_las.val_dataloader()), total=len(conformer_las.val_dataloader())):\n",
    "    features, features_len, targets, target_len = batch\n",
    "    curr_hyp_las = hyps_las[batch_size * i: batch_size * i + batch_size]\n",
    "    curr_hyp_ctc = hyps_ctc[batch_size * i: batch_size * i + batch_size]\n",
    "    curr_hyp_ctc_wide = hyps_ctc_wide[batch_size * i: batch_size * i + batch_size]\n",
    "    \n",
    "    encoded_las, encoded_len = conformer_las(features, features_len)\n",
    "    logprobs_ctc, encoded_len, preds_ctc = conformer_ctc(features, features_len)\n",
    "    logprobs_ctc_wide, encoded_len, preds_ctc_wide = conformer_ctc_wide(features, features_len)\n",
    "\n",
    "    for i in range(features.shape[0]):\n",
    "        curr_scores_las = []\n",
    "        curr_scores_ctc = []\n",
    "        curr_scores_ctc_wide = []\n",
    "\n",
    "        encoder_states_las = encoded_las[\n",
    "            [i],\n",
    "            :encoded_len[i],\n",
    "            :\n",
    "        ]\n",
    "        \n",
    "        curr_scores_las.append(get_hyp_prob_las(curr_hyp_las[i], encoder_states_las))\n",
    "        curr_scores_las.append(get_hyp_prob_las(curr_hyp_ctc[i], encoder_states_las))\n",
    "        curr_scores_las.append(get_hyp_prob_las(curr_hyp_ctc_wide[i], encoder_states_las))\n",
    "        \n",
    "        curr_scores_ctc.append(\n",
    "            get_hyp_prob_ctc(curr_hyp_las[i], conformer_ctc, logprobs_ctc[i], encoded_len[i])\n",
    "        )\n",
    "        curr_scores_ctc.append(\n",
    "            get_hyp_prob_ctc(curr_hyp_ctc[i], conformer_ctc, logprobs_ctc[i], encoded_len[i])\n",
    "        )\n",
    "        curr_scores_ctc.append(\n",
    "            get_hyp_prob_ctc(curr_hyp_ctc_wide[i], conformer_ctc, logprobs_ctc[i], encoded_len[i])\n",
    "        )\n",
    "        \n",
    "        curr_scores_ctc_wide.append(\n",
    "            get_hyp_prob_ctc(curr_hyp_las[i], conformer_ctc_wide, logprobs_ctc_wide[i], encoded_len[i])\n",
    "        )\n",
    "        curr_scores_ctc_wide.append(\n",
    "            get_hyp_prob_ctc(curr_hyp_ctc[i], conformer_ctc_wide, logprobs_ctc_wide[i], encoded_len[i])\n",
    "        )\n",
    "        curr_scores_ctc_wide.append(\n",
    "            get_hyp_prob_ctc(curr_hyp_ctc_wide[i], conformer_ctc_wide, logprobs_ctc_wide[i], encoded_len[i])\n",
    "        )\n",
    "        \n",
    "        scores_las.append(curr_scores_las)\n",
    "        scores_ctc.append(curr_scores_ctc)\n",
    "        scores_ctc_wide.append(curr_scores_ctc_wide)\n",
    "        "
   ]
  },
  {
   "cell_type": "code",
   "execution_count": 87,
   "id": "5f53462a",
   "metadata": {
    "ExecuteTime": {
     "end_time": "2022-12-16T21:06:05.131052Z",
     "start_time": "2022-12-16T21:06:03.775174Z"
    }
   },
   "outputs": [
    {
     "name": "stderr",
     "output_type": "stream",
     "text": [
      "100%|█████████████████████████████████████████████████████████████████████████████████████████████████████████████████████████████████████████████████████████████████| 1916/1916 [00:01<00:00, 1423.62it/s]\n"
     ]
    }
   ],
   "source": [
    "hyps_mbr = []\n",
    "for i in tqdm(range(len(refs))):\n",
    "    hyps = (hyps_las[i], hyps_ctc[i], hyps_ctc_wide[i])\n",
    "    scores = (scores_las[i], scores_ctc[i], scores_ctc_wide[i])\n",
    "    if None in scores_ctc[i]:\n",
    "        hyps = (hyps_ctc[i], hyps_ctc_wide[i])\n",
    "        scores = (scores_ctc[i][1:], scores_ctc_wide[i][1:])\n",
    "    else:\n",
    "        hyps = (hyps_las[i], hyps_ctc[i], hyps_ctc_wide[i])\n",
    "        scores = (scores_las[i], scores_ctc[i], scores_ctc_wide[i])\n",
    "        \n",
    "    hyps_mbr.append(get_mbr_hyp(hyps, scores))"
   ]
  },
  {
   "cell_type": "code",
   "execution_count": 89,
   "id": "84a1f70a",
   "metadata": {
    "ExecuteTime": {
     "end_time": "2022-12-16T21:15:53.913639Z",
     "start_time": "2022-12-16T21:15:53.808217Z"
    }
   },
   "outputs": [
    {
     "data": {
      "text/plain": [
       "0.35146743059158325"
      ]
     },
     "execution_count": 89,
     "metadata": {},
     "output_type": "execute_result"
    }
   ],
   "source": [
    "compute_wer(refs, hyps_mbr)"
   ]
  },
  {
   "cell_type": "markdown",
   "id": "79a6ae5e",
   "metadata": {},
   "source": [
    "### Итоговый WER:\n",
    "* `LAS: 0.423`\n",
    "* `ConformerCTC: 0.425`\n",
    "* `ConformerCTCWide: 0.370`\n",
    "* `ROVER над тремя моделями: 0.360`\n",
    "* `MBR над тремя моделями: 0.351`"
   ]
  }
 ],
 "metadata": {
  "hide_input": false,
  "kernelspec": {
   "display_name": "venv",
   "language": "python",
   "name": "venv"
  },
  "language_info": {
   "codemirror_mode": {
    "name": "ipython",
    "version": 3
   },
   "file_extension": ".py",
   "mimetype": "text/x-python",
   "name": "python",
   "nbconvert_exporter": "python",
   "pygments_lexer": "ipython3",
   "version": "3.10.9"
  },
  "varInspector": {
   "cols": {
    "lenName": 16,
    "lenType": 16,
    "lenVar": 40
   },
   "kernels_config": {
    "python": {
     "delete_cmd_postfix": "",
     "delete_cmd_prefix": "del ",
     "library": "var_list.py",
     "varRefreshCmd": "print(var_dic_list())"
    },
    "r": {
     "delete_cmd_postfix": ") ",
     "delete_cmd_prefix": "rm(",
     "library": "var_list.r",
     "varRefreshCmd": "cat(var_dic_list()) "
    }
   },
   "types_to_exclude": [
    "module",
    "function",
    "builtin_function_or_method",
    "instance",
    "_Feature"
   ],
   "window_display": false
  }
 },
 "nbformat": 4,
 "nbformat_minor": 5
}
